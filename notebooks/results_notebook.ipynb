{
 "cells": [
  {
   "cell_type": "code",
   "execution_count": 55,
   "metadata": {},
   "outputs": [],
   "source": [
    "import pandas as pd\n",
    "import numpy as np\n",
    "import pathlib\n",
    "import pprint\n",
    "\n",
    "pp = pprint.PrettyPrinter(indent=4)"
   ]
  },
  {
   "cell_type": "code",
   "execution_count": 12,
   "metadata": {},
   "outputs": [],
   "source": [
    "results = pathlib.Path('/home/jakub/Studia/inż/Semestr7/thesis/kod/OneDrive_NEW_GCONET/result_all_7_methods.csv')"
   ]
  },
  {
   "cell_type": "code",
   "execution_count": 73,
   "metadata": {},
   "outputs": [
    {
     "name": "stdout",
     "output_type": "stream",
     "text": [
      "Wielkość dataframe: 560\n",
      "Nagłówki danych: ['data_class', 'method', 'mae', 'max-fm', 'mean-fm', 'max-Emeasure', 'mean-Emeasure', 'S-measure', 'AP', 'AUC']\n"
     ]
    }
   ],
   "source": [
    "df = pd.read_csv(results)\n",
    "print(f\"Wielkość dataframe: {len(df)}\")\n",
    "print(f\"Nagłówki danych: {[row for row in df.columns]}\")"
   ]
  },
  {
   "cell_type": "code",
   "execution_count": 74,
   "metadata": {},
   "outputs": [],
   "source": [
    "df = df[df.method != 'CoU2Net']\n",
    "df = df[df.method != 'U2Net']\n",
    "df = df[df.method != 'LDF']"
   ]
  },
  {
   "cell_type": "code",
   "execution_count": 75,
   "metadata": {},
   "outputs": [
    {
     "data": {
      "text/html": [
       "<div>\n",
       "<style scoped>\n",
       "    .dataframe tbody tr th:only-of-type {\n",
       "        vertical-align: middle;\n",
       "    }\n",
       "\n",
       "    .dataframe tbody tr th {\n",
       "        vertical-align: top;\n",
       "    }\n",
       "\n",
       "    .dataframe thead th {\n",
       "        text-align: right;\n",
       "    }\n",
       "</style>\n",
       "<table border=\"1\" class=\"dataframe\">\n",
       "  <thead>\n",
       "    <tr style=\"text-align: right;\">\n",
       "      <th></th>\n",
       "      <th>data_class</th>\n",
       "      <th>method</th>\n",
       "      <th>mae</th>\n",
       "      <th>max-fm</th>\n",
       "      <th>mean-fm</th>\n",
       "      <th>max-Emeasure</th>\n",
       "      <th>mean-Emeasure</th>\n",
       "      <th>S-measure</th>\n",
       "      <th>AP</th>\n",
       "      <th>AUC</th>\n",
       "    </tr>\n",
       "  </thead>\n",
       "  <tbody>\n",
       "    <tr>\n",
       "      <th>1</th>\n",
       "      <td>CoCA_beer_bottle</td>\n",
       "      <td>CoLDF</td>\n",
       "      <td>0.0561</td>\n",
       "      <td>0.6499</td>\n",
       "      <td>0.6422</td>\n",
       "      <td>0.8297</td>\n",
       "      <td>0.8168</td>\n",
       "      <td>0.7820</td>\n",
       "      <td>0.5994</td>\n",
       "      <td>0.8856</td>\n",
       "    </tr>\n",
       "    <tr>\n",
       "      <th>2</th>\n",
       "      <td>CoCA_beer_bottle</td>\n",
       "      <td>COEGNET</td>\n",
       "      <td>0.1174</td>\n",
       "      <td>0.5072</td>\n",
       "      <td>0.4822</td>\n",
       "      <td>0.7089</td>\n",
       "      <td>0.6964</td>\n",
       "      <td>0.6305</td>\n",
       "      <td>0.4033</td>\n",
       "      <td>0.7684</td>\n",
       "    </tr>\n",
       "    <tr>\n",
       "      <th>3</th>\n",
       "      <td>CoCA_beer_bottle</td>\n",
       "      <td>GICD</td>\n",
       "      <td>0.0894</td>\n",
       "      <td>0.5814</td>\n",
       "      <td>0.5759</td>\n",
       "      <td>0.7996</td>\n",
       "      <td>0.7874</td>\n",
       "      <td>0.7006</td>\n",
       "      <td>0.4852</td>\n",
       "      <td>0.8361</td>\n",
       "    </tr>\n",
       "    <tr>\n",
       "      <th>4</th>\n",
       "      <td>CoCA_beer_bottle</td>\n",
       "      <td>GCoNet</td>\n",
       "      <td>0.0946</td>\n",
       "      <td>0.5122</td>\n",
       "      <td>0.5017</td>\n",
       "      <td>0.8219</td>\n",
       "      <td>0.7909</td>\n",
       "      <td>0.6725</td>\n",
       "      <td>0.3970</td>\n",
       "      <td>0.8001</td>\n",
       "    </tr>\n",
       "    <tr>\n",
       "      <th>8</th>\n",
       "      <td>CoCA_high_heels</td>\n",
       "      <td>CoLDF</td>\n",
       "      <td>0.1314</td>\n",
       "      <td>0.5465</td>\n",
       "      <td>0.5402</td>\n",
       "      <td>0.7856</td>\n",
       "      <td>0.7731</td>\n",
       "      <td>0.6793</td>\n",
       "      <td>0.4670</td>\n",
       "      <td>0.8513</td>\n",
       "    </tr>\n",
       "  </tbody>\n",
       "</table>\n",
       "</div>"
      ],
      "text/plain": [
       "         data_class   method     mae  max-fm  mean-fm  max-Emeasure  \\\n",
       "1  CoCA_beer_bottle    CoLDF  0.0561  0.6499   0.6422        0.8297   \n",
       "2  CoCA_beer_bottle  COEGNET  0.1174  0.5072   0.4822        0.7089   \n",
       "3  CoCA_beer_bottle     GICD  0.0894  0.5814   0.5759        0.7996   \n",
       "4  CoCA_beer_bottle   GCoNet  0.0946  0.5122   0.5017        0.8219   \n",
       "8   CoCA_high_heels    CoLDF  0.1314  0.5465   0.5402        0.7856   \n",
       "\n",
       "   mean-Emeasure  S-measure      AP     AUC  \n",
       "1         0.8168     0.7820  0.5994  0.8856  \n",
       "2         0.6964     0.6305  0.4033  0.7684  \n",
       "3         0.7874     0.7006  0.4852  0.8361  \n",
       "4         0.7909     0.6725  0.3970  0.8001  \n",
       "8         0.7731     0.6793  0.4670  0.8513  "
      ]
     },
     "execution_count": 75,
     "metadata": {},
     "output_type": "execute_result"
    }
   ],
   "source": [
    "df.head()"
   ]
  },
  {
   "cell_type": "code",
   "execution_count": 76,
   "metadata": {},
   "outputs": [
    {
     "name": "stdout",
     "output_type": "stream",
     "text": [
      "Inicjalizacja słownika wynikowego\n",
      "Wypełnianie słownika wynikowego\n",
      "{   'COEGNET': [   'chopsticks',\n",
      "                   'sticky_note',\n",
      "                   'tablet',\n",
      "                   'frisbee',\n",
      "                   'watermelon',\n",
      "                   'handbag',\n",
      "                   'gift_box',\n",
      "                   'teddy_bear',\n",
      "                   'dice',\n",
      "                   'doughnut',\n",
      "                   'Yellow_duck',\n",
      "                   'rolling_pin',\n",
      "                   'clover',\n",
      "                   'glove',\n",
      "                   'pillow'],\n",
      "    'CoLDF': [   'beer_bottle',\n",
      "                 'sunflower',\n",
      "                 'glasses',\n",
      "                 'pigeon',\n",
      "                 'hammock',\n",
      "                 'UAV',\n",
      "                 'Accordion',\n",
      "                 'faucet',\n",
      "                 'hourglass',\n",
      "                 'stool',\n",
      "                 'macaroon',\n",
      "                 'wheelchair',\n",
      "                 'stethoscope',\n",
      "                 'pineapple',\n",
      "                 'headphone',\n",
      "                 'fishing_rod',\n",
      "                 'belt',\n",
      "                 'harp',\n",
      "                 'watering_can',\n",
      "                 'minions',\n",
      "                 'calculator',\n",
      "                 'whisk',\n",
      "                 'camel'],\n",
      "    'GCoNet': [   'squirrel',\n",
      "                  'poker',\n",
      "                  'violin',\n",
      "                  'helicopter',\n",
      "                  'camera',\n",
      "                  'backpack',\n",
      "                  'hammer',\n",
      "                  'potato',\n",
      "                  'globe',\n",
      "                  'lollipop',\n",
      "                  'towel',\n",
      "                  'rocking_horse',\n",
      "                  'strawberry',\n",
      "                  'dolphin',\n",
      "                  'binoculars',\n",
      "                  'toy_car',\n",
      "                  'persimmon',\n",
      "                  'baseball',\n",
      "                  'pumpkin',\n",
      "                  'moon',\n",
      "                  'alarm_clock',\n",
      "                  'tomato',\n",
      "                  'ice_cream',\n",
      "                  'avocado',\n",
      "                  'candle',\n",
      "                  'waffles',\n",
      "                  'butterfly',\n",
      "                  'key'],\n",
      "    'GICD': [   'high_heels',\n",
      "                'rabbit',\n",
      "                'pine_cone',\n",
      "                'pocket_watch',\n",
      "                'microphone',\n",
      "                'eggplant',\n",
      "                'dumbbell',\n",
      "                'thermometer',\n",
      "                'guitar',\n",
      "                'roller-skating',\n",
      "                'hat',\n",
      "                'soap_bubble',\n",
      "                'typewriter',\n",
      "                'boots']}\n"
     ]
    }
   ],
   "source": [
    "print(\"Inicjalizacja słownika wynikowego\")\n",
    "\n",
    "best_dict = {\n",
    "    method: list() for method in df.method.unique()\n",
    "}\n",
    "# print(best_dict)\n",
    "\n",
    "print(\"Wypełnianie słownika wynikowego\")\n",
    "\n",
    "for dc in df.data_class.unique():\n",
    "    temp_df = df.loc[df.data_class == dc]\n",
    "    temp_best_dict = {\n",
    "        method: 0 for method in df.method.unique()\n",
    "    }\n",
    "    min_keys = ['mae']\n",
    "#     min_keys = [' max-fm', ' mean-fm', ' max-Emeasure', ' mean-Emeasure', ' S-measure', ' AP', ' AUC']\n",
    "    for key in min_keys:\n",
    "        best = temp_df[temp_df[key] == temp_df.loc[:, key].min()]['method'].values[0]\n",
    "        temp_best_dict[best] = temp_best_dict[best] + 1\n",
    "#     max_keys = [' mae']\n",
    "    max_keys = ['max-fm', 'mean-fm', 'max-Emeasure', 'mean-Emeasure', 'S-measure', 'AP', 'AUC']\n",
    "#     max_keys = [' max-fm', ' max-Emeasure', ' S-measure']\n",
    "    for key in max_keys:\n",
    "        best = temp_df[temp_df[key] == temp_df.loc[:, key].max()]['method'].values[0]\n",
    "        temp_best_dict[best] = temp_best_dict[best] + 1\n",
    "    my_max = max(temp_best_dict, key=temp_best_dict.get)\n",
    "#     for item in temp_best_dict.items():\n",
    "#         if my_max == item[1]:\n",
    "#             best_key = item[0]\n",
    "    name = dc.replace('CoCA_', '')\n",
    "#     print(best_dict[best_key].append(name))\n",
    "    best_dict[my_max].append(name)\n",
    "\n",
    "        \n",
    "pp.pprint(best_dict)"
   ]
  },
  {
   "cell_type": "code",
   "execution_count": 49,
   "metadata": {},
   "outputs": [
    {
     "name": "stdout",
     "output_type": "stream",
     "text": [
      "{'CoU2Net': [], 'CoLDF': ['beer_bottle', 'high_heels', 'chopsticks', 'squirrel', 'poker', 'rabbit', 'sunflower', 'sticky_note', 'glasses', 'pigeon', 'violin', 'pine_cone', 'helicopter', 'hammock', 'camera', 'tablet', 'backpack', 'hammer', 'potato', 'UAV', 'Accordion', 'globe', 'faucet', 'pocket_watch', 'microphone', 'lollipop', 'towel', 'eggplant', 'hourglass', 'frisbee', 'rocking_horse', 'strawberry', 'watermelon', 'dumbbell', 'handbag', 'stool', 'thermometer', 'dolphin', 'macaroon', 'binoculars', 'gift_box', 'wheelchair', 'teddy_bear', 'toy_car', 'persimmon', 'stethoscope', 'guitar', 'dice', 'roller-skating', 'doughnut', 'pineapple', 'headphone', 'baseball', 'hat', 'soap_bubble', 'pumpkin', 'fishing_rod', 'belt', 'moon', 'harp', 'Yellow_duck', 'alarm_clock', 'watering_can', 'tomato', 'minions', 'calculator', 'ice_cream', 'rolling_pin', 'avocado', 'clover', 'candle', 'typewriter', 'glove', 'pillow', 'whisk', 'camel', 'waffles', 'boots', 'butterfly', 'key', 'beer_bottle', 'high_heels', 'chopsticks', 'squirrel', 'poker', 'rabbit', 'sunflower', 'sticky_note', 'glasses', 'pigeon', 'violin', 'pine_cone', 'helicopter', 'hammock', 'camera', 'tablet', 'backpack', 'hammer', 'potato', 'UAV', 'Accordion', 'globe', 'faucet', 'pocket_watch', 'microphone', 'lollipop', 'towel', 'eggplant', 'hourglass', 'frisbee', 'rocking_horse', 'strawberry', 'watermelon', 'dumbbell', 'handbag', 'stool', 'thermometer', 'dolphin', 'macaroon', 'binoculars', 'gift_box', 'wheelchair', 'teddy_bear', 'toy_car', 'persimmon', 'stethoscope', 'guitar', 'dice', 'roller-skating', 'doughnut', 'pineapple', 'headphone', 'baseball', 'hat', 'soap_bubble', 'pumpkin', 'fishing_rod', 'belt', 'moon', 'harp', 'Yellow_duck', 'alarm_clock', 'watering_can', 'tomato', 'minions', 'calculator', 'ice_cream', 'rolling_pin', 'avocado', 'clover', 'candle', 'typewriter', 'glove', 'pillow', 'whisk', 'camel', 'waffles', 'boots', 'butterfly', 'key'], 'COEGNET': [], 'GICD': [], 'GCoNet': [], 'LDF': [], 'U2Net': []}\n"
     ]
    }
   ],
   "source": [
    "# print(best_dict)"
   ]
  },
  {
   "cell_type": "code",
   "execution_count": 99,
   "metadata": {},
   "outputs": [],
   "source": [
    "# # NOT WORKING\n",
    "# for i in range (0, len(df) - 3, 4):\n",
    "#     temp_df = df.loc[i:i + 3, :]\n",
    "#     temp_best_dict = {\n",
    "#         'GICD': 0,\n",
    "#         'COEGNET': 0,\n",
    "#         'CoU2Net': 0,\n",
    "#         'GCoNet': 0\n",
    "#     }\n",
    "# #     min_keys = [' max-fm', ' mean-fm', ' max-Emeasure', ' mean-Emeasure', ' S-measure', ' AP', ' AUC']\n",
    "#     min_keys = [' max-fm', ' max-Emeasure'' S-measure']\n",
    "#     for key in min_keys:\n",
    "#         best = temp_df[temp_df[key] == temp_df.loc[:, key].min()]['data (method)'].tolist()[0].split(' ')[-1].replace('(', '').replace(')', '')\n",
    "#         temp_best_dict[best] = temp_best_dict[best] + 1\n",
    "#     max_keys = [' mae']\n",
    "#     for key in max_keys:\n",
    "#         best = temp_df[temp_df[key] == temp_df.loc[:, key].max()]['data (method)'].tolist()[0].split(' ')[-1].replace('(', '').replace(')', '')\n",
    "#         temp_best_dict[best] = temp_best_dict[best] + 1\n",
    "#     my_max = max(temp_best_dict.values())\n",
    "#     for item in temp_best_dict.items():\n",
    "#         if my_max == item[1]:\n",
    "#             best_key = item[0]\n",
    "#     name = temp_df['data (method)'].tolist()[0].split(' ')[0].replace('CoCA_', '')\n",
    "# #     print(best_dict[best_key].append(name))\n",
    "#     best_dict[best_key].append(name)\n"
   ]
  },
  {
   "cell_type": "code",
   "execution_count": 77,
   "metadata": {},
   "outputs": [
    {
     "name": "stdout",
     "output_type": "stream",
     "text": [
      "{'COEGNET': 15, 'CoLDF': 23, 'GCoNet': 28, 'GICD': 14}\n"
     ]
    }
   ],
   "source": [
    "best_num_dict = {\n",
    "    method: len(best_dict[method]) for method in best_dict.keys()\n",
    "}\n",
    "\n",
    "pp.pprint(best_num_dict)"
   ]
  },
  {
   "cell_type": "code",
   "execution_count": 62,
   "metadata": {},
   "outputs": [],
   "source": [
    "my_max = max(temp_best_dict.values())"
   ]
  },
  {
   "cell_type": "code",
   "execution_count": 63,
   "metadata": {},
   "outputs": [],
   "source": [
    "for item in temp_best_dict.items():\n",
    "    if my_max == item[1]:\n",
    "        best_key = item[0]"
   ]
  },
  {
   "cell_type": "code",
   "execution_count": 64,
   "metadata": {},
   "outputs": [
    {
     "data": {
      "text/plain": [
       "'COEGNET'"
      ]
     },
     "execution_count": 64,
     "metadata": {},
     "output_type": "execute_result"
    }
   ],
   "source": [
    "best_key"
   ]
  },
  {
   "cell_type": "code",
   "execution_count": 68,
   "metadata": {},
   "outputs": [
    {
     "data": {
      "text/plain": [
       "{'GICD': 0, 'COEGNET': 2, 'CoU2Net': 6, 'GCoNet': 0}"
      ]
     },
     "execution_count": 68,
     "metadata": {},
     "output_type": "execute_result"
    }
   ],
   "source": [
    "temp_best_dict"
   ]
  },
  {
   "cell_type": "code",
   "execution_count": 69,
   "metadata": {},
   "outputs": [
    {
     "data": {
      "text/html": [
       "<div>\n",
       "<style scoped>\n",
       "    .dataframe tbody tr th:only-of-type {\n",
       "        vertical-align: middle;\n",
       "    }\n",
       "\n",
       "    .dataframe tbody tr th {\n",
       "        vertical-align: top;\n",
       "    }\n",
       "\n",
       "    .dataframe thead th {\n",
       "        text-align: right;\n",
       "    }\n",
       "</style>\n",
       "<table border=\"1\" class=\"dataframe\">\n",
       "  <thead>\n",
       "    <tr style=\"text-align: right;\">\n",
       "      <th></th>\n",
       "      <th>data (method)</th>\n",
       "      <th>mae</th>\n",
       "      <th>max-fm</th>\n",
       "      <th>mean-fm</th>\n",
       "      <th>max-Emeasure</th>\n",
       "      <th>mean-Emeasure</th>\n",
       "      <th>S-measure</th>\n",
       "      <th>AP</th>\n",
       "      <th>AUC</th>\n",
       "    </tr>\n",
       "  </thead>\n",
       "  <tbody>\n",
       "    <tr>\n",
       "      <th>316</th>\n",
       "      <td>CoCA_key (CoU2Net)</td>\n",
       "      <td>0.1195 mae</td>\n",
       "      <td>0.3674 max-fm</td>\n",
       "      <td>0.3470 mean-fm</td>\n",
       "      <td>0.6531 max-Emeasure</td>\n",
       "      <td>0.6263 mean-Emeasure</td>\n",
       "      <td>0.6214 S-measure</td>\n",
       "      <td>0.3052 AP</td>\n",
       "      <td>0.8062 AUC</td>\n",
       "    </tr>\n",
       "    <tr>\n",
       "      <th>317</th>\n",
       "      <td>CoCA_key (COEGNET)</td>\n",
       "      <td>0.0890 mae</td>\n",
       "      <td>0.4688 max-fm</td>\n",
       "      <td>0.4513 mean-fm</td>\n",
       "      <td>0.6986 max-Emeasure</td>\n",
       "      <td>0.6686 mean-Emeasure</td>\n",
       "      <td>0.6191 S-measure</td>\n",
       "      <td>0.3259 AP</td>\n",
       "      <td>0.6994 AUC</td>\n",
       "    </tr>\n",
       "    <tr>\n",
       "      <th>318</th>\n",
       "      <td>CoCA_key (GICD)</td>\n",
       "      <td>0.0898 mae</td>\n",
       "      <td>0.5274 max-fm</td>\n",
       "      <td>0.5117 mean-fm</td>\n",
       "      <td>0.7681 max-Emeasure</td>\n",
       "      <td>0.7290 mean-Emeasure</td>\n",
       "      <td>0.7154 S-measure</td>\n",
       "      <td>0.4648 AP</td>\n",
       "      <td>0.8813 AUC</td>\n",
       "    </tr>\n",
       "    <tr>\n",
       "      <th>319</th>\n",
       "      <td>CoCA_key (GCoNet)</td>\n",
       "      <td>0.0593 mae</td>\n",
       "      <td>0.6236 max-fm</td>\n",
       "      <td>0.5954 mean-fm</td>\n",
       "      <td>0.8354 max-Emeasure</td>\n",
       "      <td>0.8036 mean-Emeasure</td>\n",
       "      <td>0.7258 S-measure</td>\n",
       "      <td>0.5557 AP</td>\n",
       "      <td>0.8941 AUC</td>\n",
       "    </tr>\n",
       "  </tbody>\n",
       "</table>\n",
       "</div>"
      ],
      "text/plain": [
       "          data (method)           mae           max-fm           mean-fm  \\\n",
       "316  CoCA_key (CoU2Net)   0.1195 mae    0.3674 max-fm    0.3470 mean-fm    \n",
       "317  CoCA_key (COEGNET)   0.0890 mae    0.4688 max-fm    0.4513 mean-fm    \n",
       "318     CoCA_key (GICD)   0.0898 mae    0.5274 max-fm    0.5117 mean-fm    \n",
       "319   CoCA_key (GCoNet)   0.0593 mae    0.6236 max-fm    0.5954 mean-fm    \n",
       "\n",
       "              max-Emeasure           mean-Emeasure           S-measure  \\\n",
       "316   0.6531 max-Emeasure    0.6263 mean-Emeasure    0.6214 S-measure    \n",
       "317   0.6986 max-Emeasure    0.6686 mean-Emeasure    0.6191 S-measure    \n",
       "318   0.7681 max-Emeasure    0.7290 mean-Emeasure    0.7154 S-measure    \n",
       "319   0.8354 max-Emeasure    0.8036 mean-Emeasure    0.7258 S-measure    \n",
       "\n",
       "              AP          AUC  \n",
       "316   0.3052 AP    0.8062 AUC  \n",
       "317   0.3259 AP    0.6994 AUC  \n",
       "318   0.4648 AP    0.8813 AUC  \n",
       "319   0.5557 AP    0.8941 AUC  "
      ]
     },
     "execution_count": 69,
     "metadata": {},
     "output_type": "execute_result"
    }
   ],
   "source": [
    "temp_df"
   ]
  },
  {
   "cell_type": "code",
   "execution_count": 110,
   "metadata": {},
   "outputs": [],
   "source": []
  },
  {
   "cell_type": "code",
   "execution_count": 113,
   "metadata": {},
   "outputs": [],
   "source": []
  },
  {
   "cell_type": "code",
   "execution_count": null,
   "metadata": {},
   "outputs": [],
   "source": []
  },
  {
   "cell_type": "code",
   "execution_count": null,
   "metadata": {},
   "outputs": [],
   "source": []
  }
 ],
 "metadata": {
  "kernelspec": {
   "display_name": "Python 3.8.3 64-bit ('base': conda)",
   "language": "python",
   "name": "python383jvsc74a57bd09e3b32acd20e6890039b900c9485b74ecd21a403534e5bb4316104b2af30ebc3"
  },
  "language_info": {
   "codemirror_mode": {
    "name": "ipython",
    "version": 3
   },
   "file_extension": ".py",
   "mimetype": "text/x-python",
   "name": "python",
   "nbconvert_exporter": "python",
   "pygments_lexer": "ipython3",
   "version": "3.8.3"
  }
 },
 "nbformat": 4,
 "nbformat_minor": 4
}
