{
 "cells": [
  {
   "cell_type": "code",
   "execution_count": 1,
   "metadata": {},
   "outputs": [],
   "source": [
    "import pandas as pd\n",
    "import numpy as np\n",
    "import pathlib"
   ]
  },
  {
   "cell_type": "code",
   "execution_count": 5,
   "metadata": {},
   "outputs": [],
   "source": [
    "results = pathlib.Path('/home/jakub/Studia/inż/Semestr7/thesis/kod/OneDrive_NEW_GCONET/result.txt')"
   ]
  },
  {
   "cell_type": "code",
   "execution_count": 6,
   "metadata": {},
   "outputs": [],
   "source": [
    "results_csv = pathlib.Path('/home/jakub/Studia/inż/Semestr7/thesis/kod/OneDrive_NEW_GCONET/result.csv')"
   ]
  },
  {
   "cell_type": "code",
   "execution_count": 7,
   "metadata": {},
   "outputs": [],
   "source": [
    "first_line = \"dataset,method,mae,max-fm,mean-fm,max-Emeasure,mean-Emeasure,S-measure,AP,AUC\\n\"\n",
    "\n",
    "with open(results) as results_file, open(results_csv, \"w\") as results_csv_file:\n",
    "    results_csv_file.write(first_line)\n",
    "    for line in results_file.readlines():\n",
    "        line = line\\\n",
    "                .replace('|', '')\\\n",
    "                .replace('mae', ',')\\\n",
    "                .replace('max-fm', ',')\\\n",
    "                .replace('mean-fm', ',')\\\n",
    "                .replace('max-Emeasure', ',')\\\n",
    "                .replace('mean-Emeasure', ',')\\\n",
    "                .replace('S-measure', ',')\\\n",
    "                .replace('AP', ',')\\\n",
    "                .replace('AUC.', '')\\\n",
    "                .replace(':', ',')\\\n",
    "                .replace('(', ',')\\\n",
    "                .replace(')', '')\\\n",
    "                .replace(' ', '')\n",
    "        results_csv_file.write(line)\n"
   ]
  },
  {
   "cell_type": "code",
   "execution_count": null,
   "metadata": {},
   "outputs": [],
   "source": []
  },
  {
   "cell_type": "code",
   "execution_count": null,
   "metadata": {},
   "outputs": [],
   "source": []
  }
 ],
 "metadata": {
  "kernelspec": {
   "display_name": "Python 3.8.3 64-bit ('base': conda)",
   "language": "python",
   "name": "python383jvsc74a57bd09e3b32acd20e6890039b900c9485b74ecd21a403534e5bb4316104b2af30ebc3"
  },
  "language_info": {
   "codemirror_mode": {
    "name": "ipython",
    "version": 3
   },
   "file_extension": ".py",
   "mimetype": "text/x-python",
   "name": "python",
   "nbconvert_exporter": "python",
   "pygments_lexer": "ipython3",
   "version": "3.8.3"
  }
 },
 "nbformat": 4,
 "nbformat_minor": 4
}
